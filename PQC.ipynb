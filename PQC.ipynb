{
  "nbformat": 4,
  "nbformat_minor": 0,
  "metadata": {
    "colab": {
      "provenance": [],
      "collapsed_sections": [
        "SuInMNVDzCDB"
      ],
      "authorship_tag": "ABX9TyNNY/P5rDbCNwhBi3L9DRcC",
      "include_colab_link": true
    },
    "kernelspec": {
      "name": "python3",
      "display_name": "Python 3"
    },
    "language_info": {
      "name": "python"
    }
  },
  "cells": [
    {
      "cell_type": "markdown",
      "metadata": {
        "id": "view-in-github",
        "colab_type": "text"
      },
      "source": [
        "<a href=\"https://colab.research.google.com/github/x1001000/livestream-blur-detection/blob/main/PQC.ipynb\" target=\"_parent\"><img src=\"https://colab.research.google.com/assets/colab-badge.svg\" alt=\"Open In Colab\"/></a>"
      ]
    },
    {
      "cell_type": "markdown",
      "source": [
        "# 掛載雲端硬碟"
      ],
      "metadata": {
        "id": "SuInMNVDzCDB"
      }
    },
    {
      "cell_type": "code",
      "execution_count": 1,
      "metadata": {
        "id": "5ta52zC9WauU",
        "outputId": "cba54091-8415-4299-8f38-247d72b4accc",
        "colab": {
          "base_uri": "https://localhost:8080/"
        }
      },
      "outputs": [
        {
          "output_type": "stream",
          "name": "stdout",
          "text": [
            "Mounted at /content/gdrive\n",
            "/content/livestream-blur-detection\n"
          ]
        }
      ],
      "source": [
        "from google.colab import drive\n",
        "drive.mount('/content/gdrive')\n",
        "\n",
        "!git clone https://github.com/x1001000/livestream-blur-detection --quiet\n",
        "%cd livestream-blur-detection\n",
        "\n",
        "from dateutil import parser\n",
        "git_tag = !git tag --sort v:refname\n",
        "git_log = !git log\n",
        "dt = parser.parse(git_log[2].strip('Date:   '))\n",
        "version = git_tag[-1] + '-' + f'{dt.date()}'.replace('-', '')"
      ]
    },
    {
      "cell_type": "markdown",
      "source": [
        "# 主程式"
      ],
      "metadata": {
        "id": "4RnoxTQEzkjS"
      }
    },
    {
      "cell_type": "code",
      "source": [
        "檢測人員 = \"\\u4F0A\\u9686\\u99AC\" #@param {type:\"string\"}\n",
        "檢測機台 = \"TSM2330\" #@param {type:\"string\"}\n",
        "\n",
        "產品型號 = \"NS011\" #@param {type:\"string\"}\n",
        "產品序號 = \"22-10-5566\" #@param {type:\"string\"}\n",
        "\n",
        "檢測門檻 = 42 #@param {type:\"integer\"}\n",
        "檢測秒數 = 0 #@param {type:\"integer\"}\n",
        "#@markdown ⚠️ 秒數設為 0 可預覽串流影像，點擊串流影像可結束預覽。\n",
        "\n",
        "print('程式版本：', version)\n",
        "\n",
        "output_folder = f'/content/gdrive/MyDrive/amedifact/PQC/{產品型號}/{產品序號}'\n",
        "import os\n",
        "if not os.path.exists(output_folder):\n",
        "    os.makedirs(output_folder)\n",
        "\n",
        "from datetime import datetime, timezone, timedelta\n",
        "tzone = timezone(timedelta(hours=8))\n",
        "start = now = datetime.now(tz=tzone)\n",
        "\n",
        "import csv\n",
        "csvfile = open(f'{output_folder}/{now}'[:-9]+'.csv', 'w', newline='')\n",
        "writer = csv.writer(csvfile, delimiter=',')\n",
        "writer.writerow(['檢測人員', 檢測人員, '檢測機台', 檢測機台])\n",
        "writer.writerow(['產品型號', 產品型號, '產品序號', 產品序號])\n",
        "writer.writerow(['檢測門檻', 檢測門檻, '檢測秒數', 檢測秒數])\n",
        "writer.writerow(['時間戳', '檢測值', '檢測結果', '照片路徑'])\n",
        "\n",
        "from detection import estimate_blur\n",
        "import numpy as np\n",
        "import cv2\n",
        "\n",
        "import colab_webcam\n",
        "from colab_webcam import video_stream, video_frame, js_to_image, overlap_to_bytes\n",
        "# 啟動網路攝影機開始接收串流影像\n",
        "video_stream()\n",
        "overlap_img = ''\n",
        "while 檢測秒數 == 0 or now - start < timedelta(seconds=檢測秒數):\n",
        "    now = datetime.now(tz=tzone)\n",
        "    # 從網路攝影機取得串流影像目前影格\n",
        "    js_reply = video_frame(f' {產品型號}影像串流中', overlap_img)\n",
        "\n",
        "    # 若無法取得影格則結束循環\n",
        "    if not js_reply:\n",
        "        break\n",
        "\n",
        "    # 將回傳的JavaScript影像物件轉成 OpenCV BGR 格式\n",
        "    img = js_to_image(js_reply[\"img\"])\n",
        "    H, W, _ = img.shape\n",
        "    cv2.imwrite(f'{output_folder}/{now}'[:-9]+'.jpg', img)\n",
        "\n",
        "    # 呼叫自定義影像即時處理函式\n",
        "    blur_map, score, blurry = estimate_blur(img, 檢測門檻)\n",
        "    color = (255, 0, 0) if blurry else (0, 255, 0)\n",
        "    bgra = np.zeros([H, W, 4], dtype=np.uint8)\n",
        "    cv2.rectangle(bgra, (1, 1), (W-2, H-2), color, 2)\n",
        "    cv2.putText(bgra, f'{now}'[:-9], (2, 20), cv2.FONT_HERSHEY_SIMPLEX, 0.5, (255, 255, 255), 2)\n",
        "    cv2.putText(bgra, f'{score:.0f}', (W-40, 20), cv2.FONT_HERSHEY_SIMPLEX, 0.5, color, 2)\n",
        "    bgra[:,:,3] = (bgra.max(axis = 2) > 0 ).astype(int) * 255\n",
        "\n",
        "    # log in csv\n",
        "    writer.writerow([f'{now}'[:-9], f'{score:.0f}', 'Fail' if blurry else 'Pass', f'{output_folder}/{now}'[23:-9]+'.jpg'])\n",
        "\n",
        "    # 將覆疊影像轉換成 base64 格式\n",
        "    overlap_bytes = overlap_to_bytes(bgra)\n",
        "\n",
        "    # 更新覆疊影像到下一個影格\n",
        "    overlap_img = overlap_bytes\n",
        "\n",
        "csvfile.close()\n",
        "\n",
        "from IPython.display import Javascript\n",
        "Javascript('removeDom();')"
      ],
      "metadata": {
        "id": "puHoN1e3HATg",
        "cellView": "form",
        "outputId": "e240edee-0a90-43cd-f9dc-337211927a52",
        "colab": {
          "base_uri": "https://localhost:8080/",
          "height": 34
        }
      },
      "execution_count": 22,
      "outputs": [
        {
          "output_type": "stream",
          "name": "stdout",
          "text": [
            "程式版本： v1.0.0-20221031\n"
          ]
        },
        {
          "output_type": "display_data",
          "data": {
            "text/plain": [
              "<IPython.core.display.Javascript object>"
            ],
            "application/javascript": [
              "\n",
              "    var video;\n",
              "    var div = null;\n",
              "    var stream;\n",
              "    var captureCanvas;\n",
              "    var imgElement;\n",
              "    var labelElement;\n",
              "    \n",
              "    var pendingResolve = null;\n",
              "    var shutdown = false;\n",
              "    \n",
              "    function removeDom() {\n",
              "       stream.getVideoTracks()[0].stop();\n",
              "       video.remove();\n",
              "       div.remove();\n",
              "       video = null;\n",
              "       div = null;\n",
              "       stream = null;\n",
              "       imgElement = null;\n",
              "       captureCanvas = null;\n",
              "       labelElement = null;\n",
              "    }\n",
              "    \n",
              "    function onAnimationFrame() {\n",
              "      if (!shutdown) {\n",
              "        window.requestAnimationFrame(onAnimationFrame);\n",
              "      }\n",
              "      if (pendingResolve) {\n",
              "        var result = \"\";\n",
              "        if (!shutdown) {\n",
              "          captureCanvas.getContext('2d').drawImage(video, 0, 0, 640, 480);\n",
              "          result = captureCanvas.toDataURL('image/jpeg', 0.8)\n",
              "        }\n",
              "        var lp = pendingResolve;\n",
              "        pendingResolve = null;\n",
              "        lp(result);\n",
              "      }\n",
              "    }\n",
              "    \n",
              "    async function createDom() {\n",
              "      if (div !== null) {\n",
              "        return stream;\n",
              "      }\n",
              "\n",
              "      div = document.createElement('div');\n",
              "      div.style.border = '2px solid black';\n",
              "      div.style.padding = '3px';\n",
              "      div.style.width = '100%';\n",
              "      div.style.maxWidth = '600px';\n",
              "      document.body.appendChild(div);\n",
              "      \n",
              "      const modelOut = document.createElement('div');\n",
              "      modelOut.innerHTML = \"<span>Status:</span>\";\n",
              "      labelElement = document.createElement('span');\n",
              "      labelElement.innerText = 'No data';\n",
              "      labelElement.style.fontWeight = 'bold';\n",
              "      modelOut.appendChild(labelElement);\n",
              "      div.appendChild(modelOut);\n",
              "           \n",
              "      video = document.createElement('video');\n",
              "      video.style.display = 'block';\n",
              "      video.width = div.clientWidth - 6;\n",
              "      video.setAttribute('playsinline', '');\n",
              "      video.onclick = () => { shutdown = true; };\n",
              "      stream = await navigator.mediaDevices.getUserMedia(\n",
              "          {video: { facingMode: \"environment\"}});\n",
              "      div.appendChild(video);\n",
              "\n",
              "      imgElement = document.createElement('img');\n",
              "      imgElement.style.position = 'absolute';\n",
              "      imgElement.style.zIndex = 1;\n",
              "      imgElement.onclick = () => { shutdown = true; };\n",
              "      div.appendChild(imgElement);\n",
              "      \n",
              "      const instruction = document.createElement('div');\n",
              "      instruction.innerHTML = \n",
              "          '<span style=\"color: red; font-weight: bold;\">' +\n",
              "          'When finished, click here or on the video to stop this demo</span>';\n",
              "      div.appendChild(instruction);\n",
              "      instruction.onclick = () => { shutdown = true; };\n",
              "      \n",
              "      video.srcObject = stream;\n",
              "      await video.play();\n",
              "\n",
              "      captureCanvas = document.createElement('canvas');\n",
              "      captureCanvas.width = 640; //video.videoWidth;\n",
              "      captureCanvas.height = 480; //video.videoHeight;\n",
              "      window.requestAnimationFrame(onAnimationFrame);\n",
              "      \n",
              "      return stream;\n",
              "    }\n",
              "    \n",
              "    async function stream_frame(label, imgData) {\n",
              "      if (shutdown) {\n",
              "        removeDom();\n",
              "        shutdown = false;\n",
              "        return '';\n",
              "      }\n",
              "\n",
              "      var preCreate = Date.now();\n",
              "      stream = await createDom();\n",
              "      \n",
              "      var preShow = Date.now();\n",
              "      if (label != \"\") {\n",
              "        labelElement.innerHTML = label;\n",
              "      }\n",
              "            \n",
              "      if (imgData != \"\") {\n",
              "        var videoRect = video.getClientRects()[0];\n",
              "        imgElement.style.top = videoRect.top + \"px\";\n",
              "        imgElement.style.left = videoRect.left + \"px\";\n",
              "        imgElement.style.width = videoRect.width + \"px\";\n",
              "        imgElement.style.height = videoRect.height + \"px\";\n",
              "        imgElement.src = imgData;\n",
              "      }\n",
              "      \n",
              "      var preCapture = Date.now();\n",
              "      var result = await new Promise(function(resolve, reject) {\n",
              "        pendingResolve = resolve;\n",
              "      });\n",
              "      shutdown = false;\n",
              "      \n",
              "      return {'create': preShow - preCreate, \n",
              "              'show': preCapture - preShow, \n",
              "              'capture': Date.now() - preCapture,\n",
              "              'img': result};\n",
              "    }\n",
              "    "
            ]
          },
          "metadata": {}
        },
        {
          "output_type": "execute_result",
          "data": {
            "text/plain": [
              "<IPython.core.display.Javascript object>"
            ],
            "application/javascript": [
              "removeDom();"
            ]
          },
          "metadata": {},
          "execution_count": 22
        }
      ]
    }
  ]
}